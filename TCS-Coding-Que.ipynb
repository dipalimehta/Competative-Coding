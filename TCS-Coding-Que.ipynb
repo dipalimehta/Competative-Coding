{
 "cells": [
  {
   "cell_type": "markdown",
   "metadata": {},
   "source": [
    "# TCS NQT CODING"
   ]
  },
  {
   "cell_type": "markdown",
   "metadata": {},
   "source": [
    "# Value in Subset \n",
    "Given a list numberList[] of integer numbers that have size N and one another number N2, also given the size S(integer number) \n",
    "of the subset. The task is to find the number N2 present in every non overlapping subset of sizes in numberList[].\n",
    "If number N2 is present in every subset print 1 otherwise print 0.\n",
    "For Example:\n",
    "Example-1:\n",
    "Input:\n",
    "12    Value of N i.e. size of nurmberList[]\n",
    "{20,1,6,8, 13,20,1,7,20,13,16,20) Values of numberList[]. \n",
    "Each value separated by a new line\n",
    "20     value of N2\n",
    "3       Value of S 1.e, size of subset\n",
    "\n",
    "Output\n",
    "1\n",
    "Explanation:\n",
    "numberList[]= 20, 1, 6, 8, 13, 20,1,7,20 13 16 20\n",
    "Subset Size=3\n",
    "Non overlapping subsets of size 3 are: {20,1,6},{8,13,20},{1,7,20},{13,16,20}\n",
    " 20 is present in every subset. Hence output is 1.\n",
    "\n",
    "Example-2\n",
    "Input\n",
    "10   Value of N i.e. size of nurmberList[]\n",
    "{8,5,3,6,9,2,3,6,9,8}       Values of  numberList[]. \n",
    "Each value separated by a new line\n",
    "5   value of N2\n",
    "3       value of S i.e. size of subset.\n",
    "Output:\n",
    "0\n",
    "Explanation:\n",
    "numberList[]= 8, 5, 3, 6, 9, 2, 3,6, 9,8.\n",
    "Subset Size=3\n",
    "Non overlapping subsets of size are: {8,5,3},{6,9,2},{3,6,9},{8}\n",
    " 5 is not present in every subset.\n",
    "Hence output is 0.\n",
    "Constraints:\n",
    "2<=N<100\n",
    "0<=numberList[il<=100\n",
    "0<S=N\n"
   ]
  },
  {
   "cell_type": "code",
   "execution_count": 1,
   "metadata": {},
   "outputs": [
    {
     "name": "stdout",
     "output_type": "stream",
     "text": [
      "1\n"
     ]
    }
   ],
   "source": [
    "import sys\n",
    "numberList=[12,3,4,6,5,12,7,8,12,5,5,12]\n",
    "#N2=int(input())\n",
    "#subset_size=int(input())\n",
    "N2=12\n",
    "subset_size=3\n",
    "no_of_subsets=len(numberList)//subset_size\n",
    "#new_list=[]\n",
    "temp_list=[]\n",
    "for i in range(no_of_subsets):\n",
    "    temp_list=numberList[0:subset_size]\n",
    "    if N2 not in temp_list:\n",
    "        print(\"0\")\n",
    "        sys.exit()\n",
    "    #new_list.append(temp_list)\n",
    "    for j in range(subset_size):\n",
    "        numberList.remove(numberList[0])\n",
    "if numberList:\n",
    "    if N2 not in numberList:\n",
    "        print(\"0\")\n",
    "        sys.exit()\n",
    "    #new_list.append(numberList[::]) \n",
    "print(\"1\")"
   ]
  },
  {
   "cell_type": "markdown",
   "metadata": {},
   "source": [
    "# ATM\n",
    "Currency notes dispensed by most automated teller machines (ATMs) are only available in certain denominations. \n",
    "Your task is to find all possible ways to calculate the amount give by the user on the ATM with available denominations.\n",
    "\n",
    "Example-1:\n",
    "Input\n",
    "4            - Value of N, represents count of Currency denominations.\n",
    "{1,3,5,7}    - value of arr[], represents currency denominations. While input, each value separatedby a new line.\n",
    "8           Valueof M, represents the amount withdrawn by the user.\n",
    "Output\n",
    "6 \n",
    "\n",
    "Explanation:\n",
    "Here, given currencies are 1,3,5,7 \n",
    "Machine can give total 8 rupee by different ways like\n",
    "1.   7+1\n",
    "2.   3+5\n",
    "3.   1+1+3+3\n",
    "4.   1+1+ 1 +5\n",
    "5.   1+1 +1+1+1+3\n",
    "6.   1+1 +1 +1+1 +1+1 +1\n",
    "\n",
    "So, there are 6 ways, machine can give an amount to\n",
    "the user.\n",
    "\n",
    "Example-2\n",
    "\n",
    "Input\n",
    "3                       Value of N, represents count of Currency denominations.\n",
    "{1,2, 3}             Value of arr[] represents values Currency denomination. While input each value separated by a new line\n",
    "4                       Value of M, represents the amount withdrawn by the User\n",
    "Output:\n",
    "4\n",
    "\n",
    "Explanation\n",
    "Here, given currencies are 1, 2,3,4\n",
    "1.    1+3\n",
    "2.    2+2\n",
    "3.    1+1+2\n",
    "4.    1+1+1\n",
    "So, there are 4 ways, machine can give an amount to the user.\n",
    "Constraints:\n",
    "0<N<=10\n",
    "0<arr[]<100\n",
    "0<M<=1000"
   ]
  },
  {
   "cell_type": "code",
   "execution_count": 2,
   "metadata": {},
   "outputs": [
    {
     "name": "stdout",
     "output_type": "stream",
     "text": [
      "1  1  1  1  \n",
      "1  1  2  \n",
      "1  3  \n",
      "2  2  \n"
     ]
    }
   ],
   "source": [
    "##Recursion and Backtracking is used\n",
    "\n",
    "def combinationSum(arr, sum1):\n",
    "    ans = []\n",
    "    temp = []\n",
    "    arr = sorted(list(set(arr)))\n",
    "    findNumbers(ans, arr, temp, sum1, 0)\n",
    "    return ans\n",
    "\n",
    "def findNumbers(ans, arr, temp, sum1, index):\n",
    "    if(sum1 == 0):\n",
    "        ans.append(list(temp))\n",
    "        return    \n",
    "    for i in range(index, len(arr)):\n",
    "        if(sum1 - arr[i]) >= 0:\n",
    "            temp.append(arr[i])\n",
    "            findNumbers(ans, arr, temp, sum1-arr[i], i)\n",
    "            temp.remove(arr[i])\n",
    "\n",
    "#############################################################\n",
    "arr = [1,2,3]\n",
    "sum1 = 4\n",
    "ans = combinationSum(arr, sum1)\n",
    "\n",
    "if len(ans) <= 0:\n",
    "    print(\"empty\")\n",
    "\n",
    "for i in range(len(ans)):\n",
    "    for j in range(len(ans[i])):\n",
    "        print(str(ans[i][j])+\" \",end=\" \" )\n",
    "    print()\n",
    "\n",
    "\n"
   ]
  },
  {
   "cell_type": "markdown",
   "metadata": {},
   "source": [
    "# Sum of Consecutive nos\n",
    "Given an array, Arr[] of integer numbers have Size N. The task is to find out single or Consecutive numbers from Arr[] with 0 sum.\n",
    "When found, print \"1\" otherwise \"0\"\n",
    "\n",
    "Example-1\n",
    "Input:4\n",
    "Value of N\n",
    "{6,-2,3-1}  Element of Arr[]\n",
    "\n",
    "Output:1\n",
    "\n",
    "Example-2:\n",
    "Input \n",
    "5 Value of N\n",
    "{5,1,2,3-4} Element of Arr\n",
    "Output:\n",
    "0\n",
    "\n",
    "Explanation:\n",
    "In example-1 the number list is 6,-2,3,-1.here\n",
    "(-2)+3 +(-1)=0\n",
    "So we can get consecutive numbers in Arr[] and its sum is 0. Hence the output is 1\n",
    "\n",
    "In example-2, the number list is 5, 1, 2, 3, -4. Any Consecutive numbers cannot give 0 sum. Hence the output is 0.\n",
    "\n",
    "Constraints:\n",
    "1<N<100\n",
    "-100=Arr[i]<= 100\n",
    "\n",
    "Input Format for Testing:\n",
    "    \n",
    "Candidate has to write the code to accept two inputs separated by a new line\n",
    "First input- Accept single integer value for N representing size of Arr[]\n",
    "second Input- Accept N number of integer values separated by a new line\n",
    "\n",
    "Output Format for Testing:\n",
    "The output must be 1 or 0\n",
    "Additional messages in Output Will result in the failure of test cases.\n",
    "\n"
   ]
  },
  {
   "cell_type": "code",
   "execution_count": 3,
   "metadata": {},
   "outputs": [
    {
     "name": "stdout",
     "output_type": "stream",
     "text": [
      "1\n"
     ]
    },
    {
     "ename": "SystemExit",
     "evalue": "0",
     "output_type": "error",
     "traceback": [
      "An exception has occurred, use %tb to see the full traceback.\n",
      "\u001b[1;31mSystemExit\u001b[0m\u001b[1;31m:\u001b[0m 0\n"
     ]
    },
    {
     "name": "stderr",
     "output_type": "stream",
     "text": [
      "C:\\Users\\Public\\anacoda_file_folder\\lib\\site-packages\\IPython\\core\\interactiveshell.py:3445: UserWarning: To exit: use 'exit', 'quit', or Ctrl-D.\n",
      "  warn(\"To exit: use 'exit', 'quit', or Ctrl-D.\", stacklevel=1)\n"
     ]
    }
   ],
   "source": [
    "#N=int(input())\n",
    "#Arr=[int(input()) for i in range(N)] \n",
    "#Code is correct\n",
    "import sys\n",
    "arr=[6,-2,3,-1]\n",
    "for i in range(len(arr)):\n",
    "    n=4\n",
    "    for j in range(len(arr)):      \n",
    "        if arr[i:n]:\n",
    "            if sum(arr[i:n])== 0:\n",
    "                print(\"1\")\n",
    "                sys.exit(0)\n",
    "            n-=1\n",
    "else:print(\"0\")\n",
    "    \n",
    "\n",
    "    "
   ]
  },
  {
   "cell_type": "markdown",
   "metadata": {},
   "source": [
    "# Encode Decode\n",
    "A group of developers generated their internal secret technique of data encode and decode.\n",
    "Technique for encoding is such thát from theOriginal message of text, each characters ASCII\n",
    "value is found and that válue is added with constant value of 5' and converted back to character for that new ASCII value and provided\n",
    "as changed message.\n",
    "Reverse is performed for decoding, i.e. each character ASCII value is found and subtracted with constant value of '5' and converted back to\n",
    "character for that new ASCII value \n",
    "Input for testing:\n",
    "Written code should accept two string values generated by newline denoting string for encoding and decoding respettively.\n",
    "\n",
    "Output format for testing:\n",
    "Written program code should generate two string values separated by newline representing encoding and decoding string respectively\n",
    "\n",
    "Constraints:\n",
    "Text messages given for encoding should only contain characters a-z, A-Z, spaces, commas and dots , if input contain numeric values or special characters (/,2*^,etc), it should display \"INVALID\n",
    "INPUT and quit.if there is no text entered for encoding or decoding, display\"INVALID INPUT\"\n",
    "Spaces, dot, commas are ignored and appear ass during encoding or decoding\n",
    "\n",
    "Examples\n",
    "\n",
    "Example1:\n",
    "\n",
    "Input\n",
    "\n",
    "Hello , Sir          String value for encoding\n",
    "\n",
    "SHytyfqp              String value for decoding \n",
    "\n",
    "Output\n",
    "\n",
    "Mjgqt,Xnw              Encoded string\n",
    "\n",
    "need to talk           Decoded string\n",
    "\n",
    "Explanation:\n",
    "Two text messages are provided, you need to encode the First and decode the second message as per the below technique\n",
    "\n",
    "Original Message \"Hello , Sir\"will be change to\n",
    "\n",
    "H ASCH Value =72+5= 77=M\n",
    "\n",
    "e ASCII value= 101+5=106=j\n",
    "\n",
    "l-ASCII value 108+5=113-q\n",
    "\n",
    "o-ASCII value= 111+5=116=t\n",
    "\n",
    "S-ASCIl value= 83+5=88=X\n",
    "\n",
    "i- ASCII Value= 105+5=110=n\n",
    "\n",
    "r- ASCII value= 114+5=119=w\n",
    "\n",
    "Converted message \"Mjqqt Xnw\n",
    "\n",
    "Decoding the received message\n",
    "\n",
    "Original message \"sijiytyfqp\" will be change to\n",
    "\n",
    "S ASCII Value =115-5=110=n\n",
    "\n",
    "j-ASCIl value 106-5=101=e\n",
    "\n",
    "i- ASCII value= 105-5=100=d\n",
    "\n",
    "y ASCH value= 121-5=116=t\n",
    "\n",
    "t-ASCII value= 116-5=111=o\n",
    "\n",
    "f- ASCII value= 102-5-97-a\n",
    "\n",
    "q-ASCII value= 113-5=108=l\n",
    "\n",
    "p-ASCII value= 112-5=107=k\n",
    "\n",
    "Converted message \"need to talk\"\n",
    "\n",
    "Example2:\n",
    "\n",
    "Input:\n",
    "\n",
    "Hello ,8Sir     String value for encoding\n",
    "\n",
    "Ljkuxqp         String value for decoding\n",
    "\n",
    "Output:\n",
    "\n",
    "INVALID INPUT\n",
    "\n",
    "Explanation\n",
    "original Message for encoding is \" Hello, 8Sir\"\n",
    "Contains numeric character and as per rules\n",
    "numeric or special characters are not allowed in\n",
    "both encoding or decoding input messages\n",
    "Hence output is \"INVALID INPUT\""
   ]
  },
  {
   "cell_type": "code",
   "execution_count": null,
   "metadata": {},
   "outputs": [],
   "source": [
    "import sys\n",
    "text=input()\n",
    "cipher=input()\n",
    "text_encoded=''\n",
    "cipher_decoded=''\n",
    "\n",
    "for i in text:\n",
    "    if i.isalpha():\n",
    "        s=ord(i)+5\n",
    "        text_encoded=text_encoded+chr(s)\n",
    "    elif i==\" \":\n",
    "        text_encoded=text_encoded+\" \"\n",
    "    elif i==\",\":\n",
    "        text_encoded=text_encoded+\",\"\n",
    "    elif i==\".\":\n",
    "        text_encoded=text_encoded+\".\"\n",
    "    else:\n",
    "        print(\"INVALID INPUT\")\n",
    "        os._exit()\n",
    "\n",
    "for k in cipher:\n",
    "    if k.isalpha():\n",
    "        s=ord(k)-5\n",
    "        cipher_decoded=cipher_decoded+chr(s)\n",
    "    elif k==\" \":\n",
    "        cipher_decoded=cipher_decoded+\" \"\n",
    "    elif k==\",\":\n",
    "        cipher_decoded=cipher_decoded+\",\"\n",
    "    elif k==\".\":\n",
    "        cipher_decoded=cipher_decoded+\".\"\n",
    "    else:\n",
    "        print(\"INVALID INPUT\")\n",
    "        sys._exit()\n",
    "print(text_encoded)\n",
    "print(cipher_decoded)"
   ]
  },
  {
   "cell_type": "markdown",
   "metadata": {},
   "source": [
    "# Store\n",
    "\n",
    "A store has different categories of products in stock as shown below.\n",
    "Item Number= [101, 102, 103, 104]\n",
    "Item Nane= [Milk, Cheese, Ghee, Bread]\n",
    "Price-[42, 50, 500, 40]\n",
    "Stock- [10, 20, 15, 16]\n",
    "\n",
    "When user give input with 2 values as\n",
    "1. item number for item which user wish to buy.\n",
    "2. Quantty for the item entered above.\n",
    "\n",
    "When user enters above input, the code should check the stock\n",
    "1. If quantity is less than stock and item is available display a notification message showing\n",
    "Output Line1- <price> INR     //Calculate total price in float with precision1\n",
    "Output Line2- <quantity> LEFT  //updated stock for tem after purchase\n",
    "\n",
    "2. if the quantity in stock is less than quantity entered by user while placing order, Hhen display message:\n",
    "Output Line1- NO STOCK\n",
    "Output Line2- <quantity> LEFT\n",
    "\n",
    "3. 1f user enter character as input for item number and quantty or enter item number which is not available then display following message and stop\n",
    "Output Line1- INVALID INPUT\n",
    "Make sure the string message displayed in output is in correct format.\n",
    "\n",
    "NOTE AsSume Product details are already known to user.\n",
    "\n",
    "Instructions:\n",
    "\n",
    "System doesn't allow any kind of hard coded input value/ values except floor beam distance value.\n",
    "Written program code by candidate will be verified against the inputs which are supplied from the system.\n",
    "For more darification, please read below points carefully till the end.\n",
    "\n",
    "\n",
    "\n",
    "Input format for testing:\n",
    "Written code should accept two integer values separated by newline denoting Item number and quantity respectively.\n",
    "\n",
    "Constraints:\n",
    "Both inputs should be integer number only.\n",
    "\n",
    "Example 1:\n",
    "Input:\n",
    "101   Item Number\n",
    "4     Quantity\n",
    "\n",
    "Output:\n",
    "168.0 INR    total price\n",
    "6 LEFT       update stock\n",
    "\n",
    "Example 2:\n",
    "Input:\n",
    "104    Item Number\n",
    "20     Quantity\n",
    "\n",
    "Output:\n",
    "NO STOCK      total price\n",
    "16 LEFT       update stock\n"
   ]
  },
  {
   "cell_type": "code",
   "execution_count": null,
   "metadata": {},
   "outputs": [],
   "source": [
    "item_number=[101,102,103,104]\n",
    "item_name=['Milk','Cheese','Ghee','Bread']\n",
    "price=[42,50,500,40]\n",
    "stock=[10,20,15,16]\n",
    "item_no=int(input())\n",
    "quantity=int(input())\n",
    "if item_no in item_number:\n",
    "    if quantity<stock[item_number.index(item_no)]:\n",
    "        print(f\"{float(quantity*price[item_number.index(item_no)])} INR\")\n",
    "        stock[item_number.index(item_no)]=stock[item_number.index(item_no)]-quantity\n",
    "        print(f\"{stock[item_number.index(item_no)]} LEFT\")\n",
    "    else:\n",
    "        print(f\"NO STOCK\")\n",
    "        print(f\"{stock[item_number.index(item_no)]} LEFT\")\n",
    "else:\n",
    "    print(\"INVALID INPUT\")\n"
   ]
  },
  {
   "cell_type": "markdown",
   "metadata": {},
   "source": [
    "# Groups\n",
    "Accept total number of participants (P) in class. A group of four divisions has to be created from registered participants. The limit for registration is 200.If total number of partiapants registered is even number then, criteria for group division are that each group should have equal number of participants. And total number of partidpants in each group should be an even number.\n",
    "\n",
    "For example, if P=104 then Group A=26, Group B=26 Group C=26 and Group D=26\n",
    "If total number of partiapants is odd number then, criteria for group division is that take the nearest multiple of 4 less than P and perform four equal divisions and then the left out partiapants are added in Group D\n",
    "\n",
    "For example, If P=127, then Group A31, Group B=31 Group C=31 and Group D=34\n",
    "Group D is 34 because 31 participants plus left out 3 participants are added in this group.\n",
    "Display report on total number of particcpants in each group. Also display when input in invalid.\n",
    "\n",
    "Instructions:\n",
    "\n",
    "System doesnt allow any kind of hard coded input value/ values except floor beam distance value.\n",
    "Written program code by candidate will be verified against the inputs which are supplied from the system.\n",
    "For more darification, please read below points carefully till the end\n",
    "\n",
    "Input format for testing:\n",
    "\n",
    "Written program code should accept single integer value denoting total number of participants P.\n",
    "\n",
    "Output format for testing:\n",
    "\n",
    "Written program code should generate four integer value separated by new line representing total number of participants of Group-A, Group-B, Group-C and Group-D respectively.\n",
    "\n",
    "Constraints:\n",
    "Total number of partiipants P, 100<=P<=200\n",
    "Note: If number of partiapants entered by user is less than 100 or greater than 200, display \"INVALID INPUT\" and quit.\n",
    "\n",
    "\n",
    "Example 1:\n",
    "Input\n",
    "\n",
    "104       Value of P\n",
    "\n",
    "Output:\n",
    "\n",
    "\n",
    "26        Participants of Group A.\n",
    "26        Participants of Group B.\n",
    "26        Participants of Group C.\n",
    "26        Participants of Group D.\n",
    "\n",
    "\n",
    "Example 2:\n",
    "\n",
    "Input\n",
    "\n",
    "127       Value of P\n",
    "\n",
    "Output:\n",
    "\n",
    "31        Participants of Group A.\n",
    "31        Participants of Group B.\n",
    "31        Participants of Group C.\n",
    "34        Participants of Group D."
   ]
  },
  {
   "cell_type": "code",
   "execution_count": null,
   "metadata": {},
   "outputs": [],
   "source": [
    "p=int(input())\n",
    "if p%2==0:\n",
    "    res=p//4\n",
    "    for i in range(0,4):\n",
    "        print(res)\n",
    "else:\n",
    "    oldp=p\n",
    "    while(p%4!=0):\n",
    "        p=p-1\n",
    "    res=p//4\n",
    "    for i in range(0,3):\n",
    "        print(res)\n",
    "    remaining=oldp-p\n",
    "    print(res+remaining)"
   ]
  },
  {
   "cell_type": "markdown",
   "metadata": {},
   "source": [
    "# Jar and Candies"
   ]
  },
  {
   "cell_type": "markdown",
   "metadata": {},
   "source": [
    "There is a JAR full of candies for sale at a mall counter. JAR has the capacity N, that is JAR can contain maximum N candies when JAR is full. At any point of time. JAR can have M number of Candies where M<=N. Candies are served to the customers. JAR is never remain empty as when last k candies are left. JAR if refilled with new candies in such a way that JAR get full.\n",
    "Write a code to implement above scenario. Display JAR at counter with available number of candies. Input should be the number of candies one customer can order at point of time. Update the JAR after each purchase and display JAR at Counter.\n",
    "\n",
    "Output should give number of Candies sold and updated number of Candies in JAR.\n",
    "\n",
    "If Input is more than candies in JAR, return: “INVALID INPUT”\n",
    "\n",
    "Given, \n",
    "\n",
    "N=10, where N is NUMBER OF CANDIES AVAILABLE\n",
    "\n",
    "K =< 5, where k is number of minimum candies that must be inside JAR ever.\n",
    "\n",
    "Example 1:(N = 10, k =< 5)\n",
    "\n",
    "Input Value\n",
    "3\n",
    "Output Value\n",
    "NUMBER OF CANDIES SOLD : 3\n",
    "NUMBER OF CANDIES AVAILABLE : 7\n",
    "Example : (N=10, k<=5)\n",
    "\n",
    "Input Value\n",
    "0\n",
    "Output Value\n",
    "INVALID INPUT\n",
    "NUMBER OF CANDIES LEFT : 10"
   ]
  },
  {
   "cell_type": "code",
   "execution_count": null,
   "metadata": {},
   "outputs": [],
   "source": [
    "total_candies=10\n",
    "no_of_candies=int(input())\n",
    "if no_of_candies in range(1,6):\n",
    "    print('No of candies sold:',no_of_candies)\n",
    "    print('No of candies left :',total_candies-no_of_candies)\n",
    "else:\n",
    "    print('Invalid input')\n",
    "    print('No of candies left:',total_candies)\n",
    "    "
   ]
  },
  {
   "cell_type": "markdown",
   "metadata": {},
   "source": [
    "# Washing Machine"
   ]
  },
  {
   "cell_type": "markdown",
   "metadata": {},
   "source": [
    "A washing machine works on the principle of Fuzzy System, the weight of clothes put inside it for washing is uncertain But based on weight measured by sensors, it decides time and water level which can be changed by menus given on the machine control area.  \n",
    "\n",
    "For low level water, the time estimate is 25 minutes, where approximately weight is between 2000 grams or any nonzero positive number below that.\n",
    "\n",
    "For medium level water, the time estimate is 35 minutes, where approximately weight is between 2001 grams and 4000 grams.\n",
    "\n",
    "For high level water, the time estimate is 45 minutes, where approximately weight is above 4000 grams.\n",
    "\n",
    "Assume the capacity of machine is maximum 7000 grams\n",
    "\n",
    "Where approximately weight is zero, time estimate is 0 minutes.\n",
    "\n",
    "Write a function which takes a numeric weight in the range [0,7000] as input and produces estimated time as output is: “OVERLOADED”, and for all other inputs, the output statement is\n",
    "\n",
    "“INVALID INPUT”.\n",
    "\n",
    "Input should be in the form of integer value –\n",
    "\n",
    "Output must have the following format –\n",
    "\n",
    "Time Estimated: Minutes\n",
    "\n",
    "Example:\n",
    "\n",
    "Input value\n",
    "2000\n",
    "\n",
    "Output value\n",
    "Time Estimated: 25 minutes"
   ]
  },
  {
   "cell_type": "code",
   "execution_count": null,
   "metadata": {},
   "outputs": [],
   "source": [
    "def fun(x):\n",
    "    if x==0:\n",
    "        print(\"Time Estimated:0 minutes\")\n",
    "    elif x in range(1,2001):\n",
    "        print(\"Time Estimated:25 minutes\")\n",
    "    elif x in range(2001,4001):\n",
    "        print(\"Time Estimated:35 minutes\")\n",
    "    elif x in range(4001,7001):\n",
    "        print(\"Time Estimated:45 minutes\")\n",
    "    else:\n",
    "        print(\"Invalid Input\")\n",
    "  \n",
    "        \n",
    "        \n",
    "fun(int(input()))       \n",
    "    "
   ]
  },
  {
   "cell_type": "markdown",
   "metadata": {},
   "source": [
    "# Wall painting"
   ]
  },
  {
   "cell_type": "markdown",
   "metadata": {},
   "source": [
    "We want to estimate the cost of painting a property. Interior wall painting cost is Rs.18 per sq.ft. and exterior wall painting cost is Rs.12 per sq.ft.\n",
    "\n",
    "Take input as\n",
    "1. Number of Interior walls\n",
    "2. Number of Exterior walls\n",
    "3. Surface Area of each Interior 4. Wall in units of square feet\n",
    "Surface Area of each Exterior Wall in units of square feet\n",
    "\n",
    "If a user enters zero  as the number of walls then skip Surface area values as User may don’t  want to paint that wall.\n",
    "\n",
    "Calculate and display the total cost of painting the property\n",
    "Example 1:\n",
    "\n",
    "6\n",
    "3\n",
    "12.3\n",
    "15.2\n",
    "12.3\n",
    "15.2\n",
    "12.3\n",
    "15.2\n",
    "10.10\n",
    "10.10\n",
    "10.00\n",
    "Total estimated Cost : 1847.4 INR"
   ]
  },
  {
   "cell_type": "code",
   "execution_count": null,
   "metadata": {},
   "outputs": [],
   "source": [
    "# input\n",
    "no_interior_wall=int(input())#total no of interior wall ip\n",
    "no_exterior_wall=int(input())#total no of exterior wall ip\n",
    "if no_interior_wall:# if True\n",
    "    interior_wall=[]\n",
    "    for i in range(no_interior_wall):\n",
    "        interior_wall.append(float(input()))# append surface areas to interior_wall list \n",
    "if no_exterior_wall:\n",
    "    exterior_wall=[]\n",
    "    for i in range(no_exterior_wall):\n",
    "        exterior_wall.append(float(input()))# append surface areas to exterior_wall list \n",
    "if no_interior_wall<0 and no_exterior_wall<0:# If No of walls =0  \n",
    "    print('Invalid input')\n",
    "    exit()\n",
    "\n",
    "#Cost estimation\n",
    "print('Total estimated cost:',sum(interior_wall)*18+sum(exterior_wall)*12,'INR')\n",
    "  "
   ]
  },
  {
   "cell_type": "markdown",
   "metadata": {},
   "source": [
    "# Ring Route Bus"
   ]
  },
  {
   "cell_type": "markdown",
   "metadata": {},
   "source": [
    "A City Bus is a Ring Route Bus which runs in circular fashion.That is, Bus once starts at the Source Bus Stop, halts at each Bus Stop in its Route and at the end it reaches the Source Bus Stop again.\n",
    "If there are n  number of Stops and if the bus starts at Bus Stop 1, then after nth Bus Stop, the next stop in the Route will be Bus Stop number 1 always.\n",
    "If there are n stops, there will be n paths.One path connects two stops. Distances (in meters) for all paths in Ring Route is given in array Path[] as given below:\n",
    "Path = [800, 600, 750, 900, 1400, 1200, 1100, 1500]\n",
    "Fare is determined based on the distance covered from source to destination stop as  Distance between Input Source and Destination Stops can be measured by looking at values in array Path[] and fare can be calculated as per following criteria:\n",
    "\n",
    "If d =1000 metres, then fare=5 INR\n",
    "(When calculating fare for others, the calculated fare containing any fraction value should be ceiled. For example, for distance 900n when fare initially calculated is 4.5 which must be ceiled to 5)\n",
    "Path is circular in function. Value at each index indicates distance till current stop from the previous one. And each index position can be mapped with values at same index in BusStops [] array, which is a string array holding abbreviation of names for all stops as-\n",
    "“THANERAILWAYSTN” = ”TH”, “GAONDEVI” = “GA”, “ICEFACTROY” = “IC”, “HARINIWASCIRCLE” = “HA”, “TEENHATHNAKA” = “TE”, “LUISWADI” = “LU”, “NITINCOMPANYJUNCTION” = “NI”, “CADBURRYJUNCTION” = “CA”\n",
    "\n",
    "Given, n=8, where n is number of total BusStops.\n",
    "BusStops = [ “TH”, ”GA”, ”IC”, ”HA”, ”TE”, ”LU”, ”NI”,”CA” ]\n",
    "\n",
    "Write a code with function getFare(String Source, String Destination) which take Input as source and destination stops(in the format containing first two characters of the Name of the Bus Stop) and calculate and return travel fare.\n",
    "\n",
    "Example 1:\n",
    "Input Values\n",
    "ca\n",
    "Ca\n",
    "\n",
    "Output Values\n",
    "INVALID OUTPUT\n",
    "\n",
    "Example 2:\n",
    "Input Values\n",
    "NI\n",
    "HA\n",
    "Output Values\n",
    "23.0 INR\n",
    "\n",
    "Note: Input and Output should be in format given in example.\n",
    "Input should not be case sensitive and output should be in the format   INR"
   ]
  },
  {
   "cell_type": "code",
   "execution_count": null,
   "metadata": {},
   "outputs": [],
   "source": [
    "import math\n",
    "def getFare(source,destination):\n",
    "    path=['TH','GA','IC','HA','TE','LU','NI','CA']\n",
    "    distance=[800,600,750,900,1400,1200,1100,1500]\n",
    "    fare=0.0\n",
    "    if not (source in path and destination in path):\n",
    "        print(\"Invalid input\")\n",
    "        exit()\n",
    "    if path.index(source)<path.index(destination):\n",
    "        for i in range(path.index(source),path.index(destination)+1):\n",
    "            fare+=distance[i]\n",
    "    elif path.index(destination)<path.index(source):\n",
    "        for i in range(path.index(source)+1,len(path)):\n",
    "            fare+=distance[i]\n",
    "        for i in range(0,path.index(destination)+1):\n",
    "            fare+=distance[i]\n",
    "    return float(math.ceil(fare*0.005))\n",
    "\n",
    "        \n",
    "    \n",
    "source=input().upper()\n",
    "destination=input().upper()\n",
    "\n",
    "\n",
    "fare=getFare(source,destination)\n",
    "if fare == 0:\n",
    "    print(\"Invalid Input\")\n",
    "else:\n",
    "    print(fare)"
   ]
  },
  {
   "cell_type": "markdown",
   "metadata": {},
   "source": [
    "# Leap Year"
   ]
  },
  {
   "cell_type": "markdown",
   "metadata": {},
   "source": [
    "To check whether a year is leap or not\n",
    "\n",
    "Step 1:\n",
    "\n",
    "We first divide the year by 4.\n",
    "If it is not divisible by 4 then it is not a leap year.\n",
    "If it is divisible by 4 leaving remainder 0 \n",
    "Step 2:\n",
    "\n",
    "We divide the year by 100\n",
    "If it is not divisible by 100 then it is a leap year.\n",
    "If it is divisible by 100 leaving remainder 0\n",
    "Step 3:\n",
    "\n",
    "We divide the year by 400\n",
    "If it is not divisible by 400 then it is a leap year.\n",
    "If it is divisible by 400 leaving remainder 0 \n",
    "Then it is a leap year"
   ]
  },
  {
   "cell_type": "code",
   "execution_count": null,
   "metadata": {},
   "outputs": [],
   "source": [
    "def check_leap_year(yr):\n",
    "    if yr%4==0:\n",
    "        if yr%100==0:\n",
    "            if yr%400==0:print(f'{yr} is a leap year')\n",
    "            else:print(f'{yr} is not a leap year')\n",
    "        else:print(f'{yr} is a leap year')\n",
    "    else:print(f'{yr} is not a leap year')\n",
    "check_leap_year(int(input()))"
   ]
  },
  {
   "cell_type": "markdown",
   "metadata": {},
   "source": [
    "# Monkey "
   ]
  },
  {
   "cell_type": "markdown",
   "metadata": {},
   "source": [
    "There are total n number of Monkeys sitting on the branches of a huge Tree. As travelers offer Bananas and Peanuts, the Monkeys jump down the Tree. If every Monkey can eat k Bananas and j Peanuts. If total m number of Bananas and p number of Peanuts are offered by travelers, calculate how many Monkeys remain on the Tree after some of them jumped down to eat.\n",
    "At a time one Monkeys gets down and finishes eating and go to the other side of the road. The Monkey who climbed down does not climb up again after eating until the other Monkeys finish eating.\n",
    "Monkey can either eat k Bananas or j Peanuts. If for last Monkey there are less than k Bananas left on the ground or less than j Peanuts left on the ground, only that Monkey can eat Bananas(<k) along with the Peanuts(<j).\n",
    "Write code to take inputs as n, m, p, k, j and return  the number of Monkeys left on the Tree.\n",
    "    Where, n= Total no of Monkeys\n",
    "        k= Number of eatable Bananas by Single Monkey (Monkey that jumped down last may get less than k Bananas)\n",
    "        j = Number of eatable Peanuts by single Monkey(Monkey that jumped down last may get less than j Peanuts)\n",
    "        m = Total number of Bananas\n",
    "        p  = Total number of Peanuts\n",
    "Remember that the Monkeys always eat Bananas and Peanuts, so there is no possibility of k and j having a value zero\n",
    "\n",
    "Example 1:\n",
    "Input Values    \n",
    "20\n",
    "2\n",
    "3\n",
    "12\n",
    "12\n",
    "\n",
    "Output Values\n",
    "Number of  Monkeys left on the tree:10\n",
    "\n",
    "Note: Kindly follow  the order of inputs as n,k,j,m,p as given in the above example. And output must include  the same format  as in above example(Number of Monkeys left on the Tree:)\n",
    "For any wrong input display INVALID INPUT"
   ]
  },
  {
   "cell_type": "code",
   "execution_count": null,
   "metadata": {},
   "outputs": [],
   "source": [
    "n=int(input())\n",
    "k=int(input())\n",
    "j=int(input())\n",
    "m=int(input())\n",
    "p=int(input())\n",
    "if(n<0 or k<0 or j<0 or m<0 or p<0):\n",
    "    print(\"Invalid input\")\n",
    "else:\n",
    "    if k>0:\n",
    "        atebanana=m/k\n",
    "    if j>0:\n",
    "        atepeanut=p/j\n",
    "    n=n-atebanana-atepeanut\n",
    "    print(f\"No of monkeys left on tree: {n}\")"
   ]
  },
  {
   "cell_type": "markdown",
   "metadata": {},
   "source": [
    "# Chain Marketing Organization"
   ]
  },
  {
   "cell_type": "markdown",
   "metadata": {},
   "source": [
    "Chain Marketing Organization has has a scheme for income generation, through which its members generate income for themselves. The scheme is such that suppose A joins the scheme and makes R and V to join this scheme  then A is Parent Member of R and V who are child Members. When any member joins the scheme then the parent gets total commission of 10% from each of its child members.\n",
    "Child members receive commission of 5% respectively. If a Parent member does not have any member joined under him, then he gets commission of 5%.\n",
    "Take name of the members joining the scheme as input.\n",
    "Display how many members joined the scheme including parent member.Calculate the Total commission gained by each members in the scheme. The fixed amount for joining the scheme is Rs.5000 on which commission will be generated\n",
    "SchemeAmount = 5000\n",
    "\n",
    "Example 1: When there are more than one child members \n",
    "Input : (Do not give input prompts.Accept values as follows. )\n",
    "Amit                     //Enter parent Member as this\n",
    "Y                           //Enter Y if  Parent member has child members otherwise enter N\n",
    "Rajesh,Virat        //Enter names of child members of Amit in comma separated\n",
    "Output:(Final Output must be in format given below.)\n",
    "TOTAL MEMBERS:3\n",
    "COMISSION DETAILS\n",
    "Amit: 1000 INR\n",
    "Rajesh :250 INR\n",
    "Virat: 250 INR\n",
    "\n",
    "Example 2: When there is only one child member in the hierarchy\n",
    "Input :\n",
    "Amit\n",
    "Y\n",
    "Rajesh\n",
    "Output:\n",
    "Total Members: 2 \n",
    "Comission Details\n",
    "Amit: 500 INR\n",
    "Rajesh: 250 INR"
   ]
  },
  {
   "cell_type": "code",
   "execution_count": null,
   "metadata": {},
   "outputs": [],
   "source": [
    "parent=input()\n",
    "yes_no=input()\n",
    "if yes_no == 'Y':\n",
    "    child=list(map(str,input().split(',')))\n",
    "    print(f\"TOTAL MEMBERS:{len(child)}\")\n",
    "    print(\"COMMISSION DETAILS\")\n",
    "    print(f\"{parent}:{len(child)*500} INR\")\n",
    "    for i in child:\n",
    "        print(f\"{i}:250 INR\")\n",
    "    \n",
    "elif yes_no=='N':\n",
    "    print(f\"TOTAL MEMBERS:1\")\n",
    "    print(\"COMMISSION DETAILS\")\n",
    "    print(f\"{parent}:{len(child)*500} INR\")\n"
   ]
  },
  {
   "cell_type": "markdown",
   "metadata": {},
   "source": [
    "# Vending Machine"
   ]
  },
  {
   "cell_type": "markdown",
   "metadata": {},
   "source": [
    "FULLY AUTOMATIC VENDING MACHINE – dispenses your cuppa on just press of button. A vending machine can serve range of products as follows:\n",
    "\n",
    "Coffee\n",
    "\n",
    "Espresso Coffee\n",
    "Cappuccino Coffee\n",
    "Latte Coffee\n",
    "Tea\n",
    "\n",
    "Plain Tea\n",
    "Assam Tea\n",
    "Ginger Tea\n",
    "Cardamom Tea\n",
    "Masala Tea\n",
    "Lemon Tea\n",
    "Green Tea\n",
    "Organic Darjeeling Tea\n",
    "Soups \n",
    "\n",
    "Hot and Sour Soup\n",
    "Veg Corn Soup\n",
    "Tomato Soup\n",
    "Spicy Tomato Soup\n",
    "Beverages\n",
    "\n",
    "Hot Chocolate Drink\n",
    "Badam Drink\n",
    "Badam-Pista Drink\n",
    "Write a program to take input for main menu & sub menu and display the name of sub menu selected in the following format (enter the first letter to select main menu):\n",
    "\n",
    "Welcome to CCD \n",
    "\n",
    "Enjoy your\n",
    "\n",
    "Example 1:\n",
    "\n",
    "Input:\n",
    "c\n",
    "1\n",
    "Output\n",
    "Welcome to CCD!\n",
    "Enjoy your Espresso Coffee!\n",
    "Example 2:\n",
    "\n",
    "Input\n",
    "t\n",
    "9\n",
    "Output\n",
    "INVALID OUTPUT!"
   ]
  },
  {
   "cell_type": "code",
   "execution_count": null,
   "metadata": {
    "scrolled": true
   },
   "outputs": [],
   "source": [
    "menu = [['Espresso Coffee','Cappuucino Coffee','Latte Coffee'], ['Plain Tea','Assam Tea','Ginger Tea','Cardamom Tea','Masala Tea','Lemon Tea','Green Tea','Organic Darjeeling Tea'], ['Hot and Sour Soup','Veg Corn Soup','Tomato Soup','Spicy Tomato Soup'], ['Hot Chocolate Drink', 'Badam Drink','Badam-Pista Drink']]\n",
    "first_letter=input()\n",
    "if first_letter=='c' or first_letter=='t' or first_letter=='s' or first_letter=='b':\n",
    "    if first_letter=='c':\n",
    "        submenu_ip=int(input())\n",
    "        if submenu_ip in range(0,3):\n",
    "            print(f\"Welcome to CCD!\")\n",
    "            print(f\"Enjoy your {menu[0][submenu_ip-1]}\")\n",
    "        else:print(\"Invalid input\")\n",
    "            \n",
    "    elif first_letter=='t':\n",
    "        submenu_ip=int(input())\n",
    "        if submenu_ip in range(0,8):\n",
    "            print(f\"Welcome to CCD!\")\n",
    "            print(f\"Enjoy your {menu[1][submenu_ip-1]}\")\n",
    "        else:print(\"Invalid input\")\n",
    "            \n",
    "    elif first_letter=='s':\n",
    "        submenu_ip=int(input())\n",
    "        if submenu_ip in range(0,4):\n",
    "            print(f\"Welcome to CCD!\")\n",
    "            print(f\"Enjoy your {menu[2][submenu_ip-1]}\")\n",
    "        else:print(\"Invalid input\")\n",
    "            \n",
    "    elif first_letter=='b':\n",
    "        submenu_ip=int(input())\n",
    "        if submenu_ip in range(0,3):\n",
    "            print(f\"Welcome to CCD!\")\n",
    "            print(f\"Enjoy your {menu[3][submenu_ip-1]}\")\n",
    "        else:print(\"Invalid input\")\n",
    "            \n",
    "    else:print(\"Invalid input\")\n",
    "else:\n",
    "    print(\"Invalid input\")"
   ]
  },
  {
   "cell_type": "markdown",
   "metadata": {},
   "source": [
    "# Doctor Earning"
   ]
  },
  {
   "cell_type": "markdown",
   "metadata": {},
   "source": [
    "A doctor has a clinic where he serves his patients. The doctor’s consultation fees are different for different groups of patients depending on their age. If the patient’s age is below 17, fees is 200 INR. If the patient’s age is between 17 and 40, fees is 400 INR. If patient’s age is above 40, fees is 300 INR. Write a code to calculate earnings in a day for which one array/List of values representing age of patients visited on that day is passed as input.\n",
    "\n",
    "Note:\n",
    "\n",
    "Age should not be zero or less than zero or above 120\n",
    "Doctor consults a maximum of 20 patients a day\n",
    "Enter age value (press Enter without a value to stop):\n",
    "Example 1:\n",
    "\n",
    "Input\n",
    "20\n",
    "30\n",
    "40\n",
    "50\n",
    "2\n",
    "3\n",
    "14\n",
    " \n",
    "\n",
    "Output\n",
    "Total Income 2000 INR\n",
    " \n",
    "\n",
    "Note: Input and Output Format should be same as given in the above example.\n",
    "For any wrong input display INVALID INPUT\n",
    "\n",
    "Output Format\n",
    "\n",
    "Total Income <Integer> INR"
   ]
  },
  {
   "cell_type": "code",
   "execution_count": null,
   "metadata": {
    "scrolled": true
   },
   "outputs": [],
   "source": [
    "age=[]\n",
    "for i in range(1,21):\n",
    "    m=input()\n",
    "    if m==\"\":\n",
    "        break\n",
    "    elif int(m) in range(0,120):\n",
    "        age.append(int(m))\n",
    "    else:\n",
    "        print(\"Invalid Input\")\n",
    "        exit()\n",
    "fees=0\n",
    "for i in age:\n",
    "    if i<17:\n",
    "        fees+=200\n",
    "    elif i<40:\n",
    "        fees+=400\n",
    "    else:\n",
    "        fees+=300\n",
    "print(f\"Total Income {fees} INR\")\n",
    "        "
   ]
  },
  {
   "cell_type": "markdown",
   "metadata": {},
   "source": [
    "# 3 English Word"
   ]
  },
  {
   "cell_type": "markdown",
   "metadata": {},
   "source": [
    "1. The program will recieve 3 English words inputs from STDIN\n",
    "\n",
    "These three words will be read one at a time, in three separate line\n",
    "The first word should be changed like all vowels should be replaced by %\n",
    "The second word should be changed like all consonants should be replaced by #\n",
    "The third word should be changed like all char should be converted to upper case\n",
    "Then concatenate the three words and print them\n",
    "Other than these concatenated word, no other characters/string should or message should be written to STDOUT\n",
    "\n",
    "For example if you print how are you then output should be h%wa#eYOU.\n",
    "\n",
    "You can assume that input of each word will not exceed more than 5 chars"
   ]
  },
  {
   "cell_type": "code",
   "execution_count": null,
   "metadata": {},
   "outputs": [],
   "source": [
    "\n",
    "for i in range(3):\n",
    "    if i == 0:\n",
    "        m=input()\n",
    "        for p in m:\n",
    "            if p in \"AEIOUaeiou\":\n",
    "                m=m.replace(p,'%')\n",
    "    elif i == 1:\n",
    "        n=input()\n",
    "        for j in n:\n",
    "            if j in \"BCDFGHJKLMNPQRSTVWXYZbcdfghjklmnpqrstvwxyz\":\n",
    "                n=n.replace(j,'#')\n",
    "    else:\n",
    "        o=input().upper()\n",
    "print(f\"{m+n+o}\")        \n",
    "                \n",
    "    "
   ]
  },
  {
   "cell_type": "markdown",
   "metadata": {},
   "source": [
    "# Ceaser Cipher"
   ]
  },
  {
   "cell_type": "markdown",
   "metadata": {},
   "source": [
    "The Caesar cipher is a type of substitution cipher in which each alphabet in the plaintext or messages is shifted by a number of places down the alphabet.\n",
    "For example,with a shift of 1, P would be replaced by Q, Q would become R, and so on.\n",
    "To pass an encrypted message from one person to another, it is first necessary that both parties have the ‘Key’ for the cipher, so that the sender may encrypt and the receiver may decrypt it.\n",
    "Key is the number of OFFSET to shift the cipher alphabet. Key can have basic shifts from 1 to 25 positions as there are 26 total alphabets.\n",
    "As we are designing custom Caesar Cipher, in addition to alphabets, we are considering numeric digits from 0 to 9. Digits can also be shifted by key places.\n",
    "For Example, if a given plain text contains any digit with values 5 and keyy =2, then 5 will be replaced by 7, “-”(minus sign) will remain as it is. Key value less than 0 should result into “INVALID INPUT”\n",
    "\n",
    "Example 1:\n",
    "Enter your PlainText: All the best\n",
    "Enter the Key: 1\n",
    "\n",
    "The encrypted Text is: Bmm uif Cftu\n",
    "\n",
    "Write a function CustomCaesarCipher(int key, String message) which will accept plaintext and key as input parameters and returns its cipher text as output."
   ]
  },
  {
   "cell_type": "code",
   "execution_count": null,
   "metadata": {},
   "outputs": [],
   "source": [
    "def ceaser_cipher(text,key):\n",
    "    cipher=''\n",
    "    for i in range(len(text)):\n",
    "        letter=text[i]\n",
    "        if letter.isupper():\n",
    "            cipher += chr((ord(letter)+key-65)%26+65)\n",
    "        elif letter.islower():\n",
    "            cipher += chr((ord(letter)+key-97)%26+97)\n",
    "        elif letter.isdigit():\n",
    "            cipher += str(int(letter)+key)\n",
    "        elif letter == '-':\n",
    "            cipher += '-'\n",
    "        elif letter.isspace():\n",
    "            cipher += \" \"\n",
    "    return cipher\n",
    "        \n",
    "text=input()\n",
    "key=int(input())\n",
    "ceaser_cipher(text,key)"
   ]
  },
  {
   "cell_type": "markdown",
   "metadata": {},
   "source": [
    "# Prime No check"
   ]
  },
  {
   "cell_type": "markdown",
   "metadata": {},
   "source": [
    "Ques. Write a code to check whether no is prime or not. Condition use function check() to find whether entered no is positive or negative ,if negative then enter the no, And if yes pas no as a parameter to prime() and check whether no is prime or not?\n",
    "\n",
    "Whether the number is positive or not, if it is negative then print the message “please enter the positive number”\n",
    "It is positive then call the function prime and check whether the take positive number is prime or not."
   ]
  },
  {
   "cell_type": "code",
   "execution_count": null,
   "metadata": {},
   "outputs": [],
   "source": [
    "def prime(n):\n",
    "    if n>1:\n",
    "        for i in range(2,n):\n",
    "            if n%i == 0:\n",
    "                print(f\"{n} is not prime\")\n",
    "                break\n",
    "        else:print(f\"{n} is prime\")\n",
    "    \n",
    "num=int(input())\n",
    "if num>0:\n",
    "    prime(num)\n",
    "else:\n",
    "        print(f\"Enter psositive number\")\n",
    "    "
   ]
  },
  {
   "cell_type": "markdown",
   "metadata": {},
   "source": [
    "# No series twist 1"
   ]
  },
  {
   "cell_type": "markdown",
   "metadata": {},
   "source": [
    "Find the 15th term of the series?\n",
    "\n",
    "0,0,7,6,14,12,21,18, 28\n",
    "\n",
    "Explanation : In this series the odd term is increment of 7 {0, 7, 14, 21, 28, 35 – – – – – – }\n",
    "\n",
    "                        And even term is a increment of 6 {0, 6, 12, 18, 24, 30 – – – – – – }"
   ]
  },
  {
   "cell_type": "code",
   "execution_count": null,
   "metadata": {},
   "outputs": [],
   "source": [
    "Series=[0,0,7,6,14,12,21,18, 28]\n",
    "if Series[0]==0:\n",
    "    print('0')\n",
    "elif Series[1]==1:\n",
    "    print('7')\n",
    "elif Series[2]==2:\n",
    "    print('8')\n",
    "elif Series[3]==3:\n",
    "    print('9')\n",
    "elif Series[4]==4:\n",
    "    print('10')\n",
    "elif Series[5]==5:\n",
    "    print(\"11\")"
   ]
  },
  {
   "cell_type": "markdown",
   "metadata": {},
   "source": [
    "# No series twist 2"
   ]
  },
  {
   "cell_type": "markdown",
   "metadata": {},
   "source": [
    "Consider the following series: 1, 1, 2, 3, 4, 9, 8, 27, 16, 81, 32, 243, 64, 729, 128, 2187 …\n",
    "\n",
    "This series is a mixture of 2 series – all the odd terms in this series form a geometric series and all the even terms form yet another geometric series. Write a program to find the Nth term in the series.\n",
    "\n",
    "The value N in a positive integer that should be read from STDIN. The Nth term that is calculated by the program should be written to STDOUT. Other than value of n th term,no other character / string or message should be written to STDOUT. For example , if N=16, the 16th term in the series is 2187, so only value 2187 should be printed to STDOUT.\n",
    "\n",
    "You can assume that N will not exceed 30."
   ]
  },
  {
   "cell_type": "code",
   "execution_count": null,
   "metadata": {},
   "outputs": [],
   "source": [
    "#n=int(input())\n",
    "n=16\n",
    "if n%2==0:\n",
    "    term=1\n",
    "    for i in range(1,n):\n",
    "        if i%2==0:\n",
    "            term=term*3\n",
    "    print(term)\n",
    "        \n",
    "else:\n",
    "    term=1\n",
    "    for i in range(1,n):\n",
    "        if i%2!=0:\n",
    "            term=term*2\n",
    "    print(term)\n",
    "    "
   ]
  },
  {
   "cell_type": "markdown",
   "metadata": {},
   "source": [
    "# Number Series with a Twist 3"
   ]
  },
  {
   "cell_type": "markdown",
   "metadata": {},
   "source": [
    "Consider the below series :\n",
    "\n",
    "0, 0, 2, 1, 4, 2, 6, 3, 8, 4, 10, 5, 12, 6, 14, 7, 16, 8\n",
    "\n",
    "This series is a mixture of 2 series all the odd terms in this series form even numbers in ascending order and every even terms is derived from the previous  term using the formula (x/2)\n",
    "\n",
    "Write a program to find the nth term in this series.\n",
    "\n",
    "The value n in a positive integer that should be read from STDIN the nth term that is calculated by the program should be written to STDOUT. Other than the value of the nth term no other characters /strings or message should be written to STDOUT.\n",
    "\n",
    "For example if n=10,the 10 th term in the series is to be derived from the 9th term in the series. The 9th term is 8 so the 10th term is (8/2)=4. Only the value 4 should be printed to STDOUT.\n",
    "\n",
    "You can assume that the n will not exceed 20,000."
   ]
  },
  {
   "cell_type": "code",
   "execution_count": null,
   "metadata": {},
   "outputs": [],
   "source": [
    "#n=int(input())\n",
    "n=10\n",
    "if n==1 or n==2:\n",
    "    print(\"0\")\n",
    "    \n",
    "elif n%2!=0:\n",
    "    term=0\n",
    "    for i in range(1,n):\n",
    "        if i%2==0:\n",
    "            term=term+2\n",
    "    print(term)\n",
    "        \n",
    "else:\n",
    "    term=0\n",
    "    for i in range(1,n):\n",
    "        if i%2==0:\n",
    "            term=term+1\n",
    "    print(term)"
   ]
  },
  {
   "cell_type": "markdown",
   "metadata": {},
   "source": [
    "# Addition of two numbers a Twist"
   ]
  },
  {
   "cell_type": "markdown",
   "metadata": {},
   "source": [
    "Using a method, pass two variables and find the sum of two numbers.\n",
    "\n",
    "Test case:\n",
    "\n",
    "Number 1 – 20\n",
    "\n",
    "Number 2 – 20.38\n",
    "\n",
    "Sum = 40.38\n",
    "\n",
    "There were a total of 4 test cases. Once you compile 3 of them will be shown to you and 1 will be a hidden one. You have to display error message if numbers are not numeric."
   ]
  },
  {
   "cell_type": "code",
   "execution_count": null,
   "metadata": {},
   "outputs": [],
   "source": [
    "def summation(num1,num2):\n",
    "    res= float(num1)+float(num2)\n",
    "    return round(res,2)\n",
    "\n",
    "summation(input(),input())"
   ]
  },
  {
   "cell_type": "markdown",
   "metadata": {},
   "source": [
    "# Word is the key"
   ]
  },
  {
   "cell_type": "markdown",
   "metadata": {},
   "source": [
    " One programming language has the following keywords that cannot be used as identifiers:\n",
    "\n",
    "\n",
    "\n",
    "break, case, continue, default, defer, else, for, func, goto, if, map, range, return, struct, type, var\n",
    "\n",
    "\n",
    "\n",
    "Write a program to find if the given word is a keyword or not\n",
    "\n",
    "\n",
    "\n",
    "Input #1:\n",
    "\n",
    "\n",
    "\n",
    "defer\n",
    "\n",
    "\n",
    "\n",
    "Output:\n",
    "\n",
    "\n",
    "\n",
    "defer is a keyword\n",
    "\n",
    "\n",
    "\n",
    "\n",
    "\n",
    "Input #2:\n",
    "\n",
    "\n",
    "\n",
    "While\n",
    "\n"
   ]
  },
  {
   "cell_type": "code",
   "execution_count": null,
   "metadata": {},
   "outputs": [],
   "source": [
    "keyword_list=[\"break\", \"case\", \"continue\", \"default\", \"defer\", \"else\", \"for\", \"func\", \"goto\", \"if\", \"map\", \"range\", \"return\", \"struct\", \"type\",\"var\"]\n",
    "ip=input()\n",
    "if ip in keyword_list:\n",
    "    print(f\"{ip} is a keyword\")\n",
    "else:\n",
    "    print(f\"{ip} is not a keyword\")"
   ]
  },
  {
   "cell_type": "markdown",
   "metadata": {},
   "source": [
    "# A Sober Walk"
   ]
  },
  {
   "cell_type": "markdown",
   "metadata": {},
   "source": [
    "Our hoary culture had several great persons since time immemorial and king vikramaditya’s nava ratnas (nine gems) belongs to this ilk.They are named in the following shloka:\n",
    "\n",
    "\n",
    "Among these, Varahamihira was an astrologer of eminence and his book Brihat Jataak is recokened as the ultimate authority in astrology.\n",
    "\n",
    "He was once talking with Amarasimha,another gem among the nava ratnas and the author of Sanskrit thesaurus, Amarakosha.\n",
    "\n",
    "Amarasimha wanted to know the final position of a person, who starts from the origin 0 0 and travels per following scheme.\n",
    "\n",
    "Scheme\n",
    "He first turns and travels 10 units of distance\n",
    "His second turn is upward for 20 units\n",
    "Third turn is to the left for 30 units\n",
    "Fourth turn is the downward for 40 units\n",
    "Fifth turn is to the right(again) for 50 units\n",
    "… And thus he travels, every time increasing the travel distance by 10 units.\n",
    "\n",
    "Test Cases\n",
    "Case 1\n",
    "Input : 3\n",
    "Expected Output :-20 20\n",
    "Case 2\n",
    "Input: 4\n",
    "Expected Output: -20 -20\n",
    "Case 3\n",
    "Input : 5\n",
    "Expected Output : 30 -20\n",
    "Case 4\n",
    "Input : 7\n",
    "Expected Output : 90 -20"
   ]
  },
  {
   "cell_type": "markdown",
   "metadata": {},
   "source": [
    "![h](hoary.png)"
   ]
  },
  {
   "cell_type": "code",
   "execution_count": null,
   "metadata": {},
   "outputs": [],
   "source": [
    "d=10\n",
    "up=20\n",
    "left=30\n",
    "down=40\n",
    "right=50"
   ]
  },
  {
   "cell_type": "markdown",
   "metadata": {},
   "source": [
    "# Sweet Seventeen"
   ]
  },
  {
   "cell_type": "markdown",
   "metadata": {},
   "source": [
    "Given a maximum of four digit to the base 17(10 -> A, 11 -> B, 12 -> C, 16 -> G) as input, output its decimal value.\n",
    "Input:\n",
    "23GF\n",
    "Output\n",
    "10980\n"
   ]
  },
  {
   "cell_type": "code",
   "execution_count": null,
   "metadata": {},
   "outputs": [],
   "source": [
    "num = str(input())\n",
    "print(int(num,17))"
   ]
  },
  {
   "cell_type": "markdown",
   "metadata": {},
   "source": [
    "# Oxygen"
   ]
  },
  {
   "cell_type": "markdown",
   "metadata": {},
   "source": [
    "Selection of MPCS exams include a fitness test which is conducted on ground. There will be a batch of 3 trainees, appearing for running test in track for 3 rounds. You need to record their oxygen level after every round. After trainee are finished with all rounds, calculate for each trainee his average oxygen level over the 3 rounds and select one with highest oxygen level as the most fit trainee. If more than one trainee attains the same highest average level, they all need to be selected.\n",
    "\n",
    "Display the most fit trainee (or trainees) and the highest average oxygen level.\n",
    "\n",
    "Note:\n",
    "\n",
    "The oxygen value entered should not be accepted if it is not in the range between 1 and 100.\n",
    "If the calculated maximum average oxygen value of trainees is below 70 then declare the trainees as unfit with meaningful message as “All trainees are unfit.\n",
    "Average Oxygen Values should be rounded.\n",
    "Example 1:\n",
    "\n",
    "INPUT VALUES\n",
    "            95\n",
    "\n",
    "            92\n",
    "\n",
    "            95\n",
    "\n",
    "            92\n",
    "\n",
    "            90\n",
    "\n",
    "            92\n",
    "\n",
    "            90\n",
    "\n",
    "            92\n",
    "\n",
    "            90\n",
    "\n",
    "OUTPUT VALUES\n",
    "Trainee Number : 1\n",
    "Trainee Number : 3\n",
    "Note:\n",
    "\n",
    "Input should be 9 integer values representing oxygen levels entered in order as\n",
    "\n",
    "Round 1\n",
    "\n",
    "Oxygen value of trainee 1\n",
    "Oxygen value of trainee 2\n",
    "Oxygen value of trainee 3\n",
    "Round 2\n",
    "\n",
    "Oxygen value of trainee 1\n",
    "Oxygen value of trainee 2\n",
    "Oxygen value of trainee 3\n",
    "Round 3\n",
    "\n",
    "Oxygen value of trainee 1\n",
    "Oxygen value of trainee 2\n",
    "Oxygen value of trainee 3\n",
    "Output must be in given format as in above example. For any wrong input final output should display “INVALID INPUT”"
   ]
  },
  {
   "cell_type": "code",
   "execution_count": null,
   "metadata": {},
   "outputs": [],
   "source": [
    "oxy=[]\n",
    "li=[]\n",
    "for i in range(0,3):\n",
    "    for j in range(0,3):\n",
    "        d=int(input())\n",
    "        if d<=100:\n",
    "            li.append(d)\n",
    "        else:\n",
    "            print(\"Invalid input\")\n",
    "    oxy.append(li)\n",
    "    li=[]\n",
    "avg=[]\n",
    "for k in range(len(oxy)):\n",
    "    g=sum(oxy[k])/3\n",
    "    avg.append(round(g,2))\n",
    "if avg[0] == max(avg):\n",
    "    print(\"Trainee No:1\")\n",
    "if avg[1] == max(avg):\n",
    "    print(\"Trainee No:2\")\n",
    "if avg[2] == max(avg):\n",
    "    print(\"Trainee No:3\")"
   ]
  },
  {
   "cell_type": "markdown",
   "metadata": {},
   "source": [
    "# String Pairs"
   ]
  },
  {
   "cell_type": "markdown",
   "metadata": {},
   "source": [
    " One person hands over the list of digits to Mr. String, But Mr. String understands only strings. Within strings also he understands only vowels. Mr. String needs your help to find the total number of pairs which add up to a certain digit D.\n",
    "\n",
    "The rules to calculate digit D are as follows:\n",
    "\n",
    "Take all digits and convert them into their textual representation.\n",
    "Next, sum up the number of vowels i.e. {a, e, i, o, u} from all textual representation. This sum is digit D.\n",
    "Now, once digit D is known find out all unordered pairs of numbers in input whose sum is equal to D. \n",
    "Problem Statement: Given an array arr[] consisting of N ( 1 ≤ N ≤ 100 ) integers, the task is to convert each array element ( 1 ≤ arr[i] ≤ 100 ) into their respective textual representations and print the lowercase representation of the count of all possible pairs from the array whose sum is equal to the total count of vowels present in their textual representation. If the count exceeds 100 print “greater 100”.\n",
    "Note: For the number 100, convert it to textual representation as hundred and not as one hundred.\n",
    "\n",
    "Examples:\n",
    "\n",
    "Input: arr[] = {1, 2, 3, 4, 5}\n",
    "Output: one\n",
    "Explanation:\n",
    "1 -> one -> o, e (2 vowels)\n",
    "2 -> two -> o (1 vowel)\n",
    "3 -> three -> e, e (2 vowels)\n",
    "4 -> four -> o, u (2 vowels)\n",
    "5 -> five – > i, e (2 vowels)\n",
    "The total count of vowels in their textual representations = {2 + 1 + 2 + 2 + 2} = 9.\n",
    "Now from the given array, only a single unordered pair {4, 5} sums up to 9. Therefore, the count is 1. Hence, the required output is “one“.\n",
    "\n",
    "\n",
    "\n",
    "\n",
    "Input: arr[] = {7, 4, 2, }\n",
    "Output: zero\n",
    "Explanation:\n",
    "7 -> seven -> e, e (2 vowels)\n",
    "4 -> four -> o, u (2 vowels)\n",
    "2 -> two -> o (1 vowel)\n",
    "The total count of vowels in their textual representation = {2 + 2 + 1} = 5.\n",
    "Now from the given array, no pair exists which adds up to 5. Therefore, the answer is “zero“."
   ]
  },
  {
   "cell_type": "code",
   "execution_count": 9,
   "metadata": {},
   "outputs": [
    {
     "name": "stdout",
     "output_type": "stream",
     "text": [
      "zero\n"
     ]
    }
   ],
   "source": [
    "arr = [7, 4, 2]\n",
    "dict1={1:\"one\",2:\"two\",3:\"three\",4:\"four\",5:\"five\",6:\"six\",7:\"seven\",8:\"eight\",9:\"nine\",0:\"zero\"}\n",
    "c=[]\n",
    "for k in arr:\n",
    "    #print(dict1[k])\n",
    "    D=0\n",
    "    for j in dict1[k]:\n",
    "        if j in \"aeiou\":\n",
    "            D=D+1\n",
    "    c.append(D)\n",
    "#print(c)\n",
    "if sum(c)>100:\n",
    "    print(\"greater 100\")\n",
    "else:\n",
    "    co=0\n",
    "    for i in range(len(arr)):\n",
    "        for k in range(i,len(arr)):\n",
    "           # print(arr[i])\n",
    "            res=arr[i]+arr[k]\n",
    "            if sum(c)==res:\n",
    "                co=co+1\n",
    "    print(dict1[co])\n",
    "   "
   ]
  },
  {
   "cell_type": "markdown",
   "metadata": {},
   "source": [
    "# Reverse a String\n",
    "Given a string, the task is to reverse this String using Command Line Arguments.\n",
    "\n",
    "Examples:\n",
    "\n",
    "Input: Geeks\n",
    "Output: skeeG\n",
    "\n",
    "Input: GeeksForGeeks\n",
    "Output: skeeGroFskeeG"
   ]
  },
  {
   "cell_type": "code",
   "execution_count": 21,
   "metadata": {},
   "outputs": [
    {
     "name": "stdout",
     "output_type": "stream",
     "text": [
      "dfjgehfg\n",
      "gfhegjfd\n"
     ]
    }
   ],
   "source": [
    "num=input()\n",
    "n=list(num)\n",
    "reverse_li=n[::-1]\n",
    "listToStr = ''.join([str(elem) for elem in reverse_li])\n",
    "print(listToStr)"
   ]
  },
  {
   "cell_type": "markdown",
   "metadata": {},
   "source": [
    "# Reverse a Number\n",
    "Given a number, the task is to reverse this number using Command Line Arguments.\n",
    "\n",
    "Examples:\n",
    "\n",
    "Input: num = 12345\n",
    "Output: 54321\n",
    "\n",
    "Input: num = 786\n",
    "Output: 687\n"
   ]
  },
  {
   "cell_type": "code",
   "execution_count": 20,
   "metadata": {},
   "outputs": [
    {
     "name": "stdout",
     "output_type": "stream",
     "text": [
      "765675456\n",
      "654576567\n"
     ]
    }
   ],
   "source": [
    "num=input()\n",
    "n=list(num)\n",
    "reverse_li=n[::-1]\n",
    "listToStr = ''.join([str(elem) for elem in reverse_li])\n",
    "print(listToStr)\n",
    "  "
   ]
  },
  {
   "cell_type": "markdown",
   "metadata": {},
   "source": [
    "# Check Palindrome Number\n",
    "Given a number, the task is to check if this number is Palindrome or not using Command Line Arguments.\n",
    "\n",
    "Examples:\n",
    "\n",
    "Input: 123\n",
    "Output: No\n",
    "\n",
    "Input: 585\n",
    "Output: Yes"
   ]
  },
  {
   "cell_type": "code",
   "execution_count": 15,
   "metadata": {},
   "outputs": [
    {
     "name": "stdout",
     "output_type": "stream",
     "text": [
      "676\n",
      "Yes\n"
     ]
    }
   ],
   "source": [
    "ip=input()\n",
    "li=list(ip)\n",
    "if li[::]==li[::-1]:\n",
    "    print(\"Yes\")\n",
    "else:\n",
    "    print(\"No\")"
   ]
  },
  {
   "cell_type": "markdown",
   "metadata": {},
   "source": [
    "# Decimal to Binary Conversion in C \n",
    "Problem Statement\n",
    "\n",
    "In this program we will code a basic program to convert a decimal number to a binary number. Decimal numbers ranges from 0 to 9, like 342, 456,23456 are all decimal numbers. Binary numbers are the numbers that are represented by 0’s and 1’s. Like 2 in binary form is equivalent to ‘0010’.\n",
    "\n"
   ]
  },
  {
   "cell_type": "code",
   "execution_count": 11,
   "metadata": {},
   "outputs": [
    {
     "name": "stdout",
     "output_type": "stream",
     "text": [
      "1010\n"
     ]
    }
   ],
   "source": [
    "n=10\n",
    "print(bin(n).replace(\"0b\", \"\"))"
   ]
  },
  {
   "cell_type": "markdown",
   "metadata": {},
   "source": [
    "# Area of Circle \n",
    "Problem Statement\n",
    "\n",
    "Given a radius ‘r’, your job is to find the area of a circle in C programming language."
   ]
  },
  {
   "cell_type": "code",
   "execution_count": 8,
   "metadata": {},
   "outputs": [
    {
     "name": "stdout",
     "output_type": "stream",
     "text": [
      "132.79\n"
     ]
    }
   ],
   "source": [
    "r=6.5 \n",
    "area_of_circle=(22/7)*r**2\n",
    "print(round(area_of_circle,2))"
   ]
  },
  {
   "cell_type": "markdown",
   "metadata": {},
   "source": [
    "# Sum of first ‘N’ numbers\n",
    "Problem Statement\n",
    "\n",
    "In this program we will code a basic program to find the sum of first ‘N’ numbers in C Programming language."
   ]
  },
  {
   "cell_type": "code",
   "execution_count": 3,
   "metadata": {},
   "outputs": [
    {
     "name": "stdout",
     "output_type": "stream",
     "text": [
      "15\n"
     ]
    }
   ],
   "source": [
    "#n=int(input())\n",
    "n=5\n",
    "add=0\n",
    "for i in range(1,n+1):\n",
    "    add+=i\n",
    "print(add)"
   ]
  },
  {
   "cell_type": "markdown",
   "metadata": {},
   "source": [
    "# Factorial\n",
    "\n",
    "Problem Statement: Write a C program to calculate the factorial of a non-negative integer N. The factorial of a number N is defined as the product of all integers from 1 up to N. Factorial of 0 is defined to be 1. The number N is a non – negative integer that will be passed to the program as the first command line parameter. Write the output to stdout formatted as an integer WITHOUT any other additional text. You may assume that the input integer will be such that the output will not exceed the largest possible integer that can be stored in an int type variable."
   ]
  },
  {
   "cell_type": "code",
   "execution_count": 2,
   "metadata": {},
   "outputs": [
    {
     "name": "stdout",
     "output_type": "stream",
     "text": [
      "120\n"
     ]
    }
   ],
   "source": [
    "#n=int(input())\n",
    "n=5\n",
    "fact=1\n",
    "for i in range(1,n+1):\n",
    "    fact=fact*i\n",
    "print(fact)    "
   ]
  },
  {
   "cell_type": "markdown",
   "metadata": {},
   "source": [
    "# WRITE A C PROGRAM TO CONVERT BINARY TO DECIMAL USING COMMAND LINE ARGUMENTS"
   ]
  },
  {
   "cell_type": "code",
   "execution_count": null,
   "metadata": {},
   "outputs": [],
   "source": []
  },
  {
   "cell_type": "markdown",
   "metadata": {},
   "source": [
    "# WRITE A C PROGRAM TO CHECK WHETHER GIVEN NO. IS PALINDROME OR NOT USING COMMAND LINE ARGUMENTS"
   ]
  },
  {
   "cell_type": "code",
   "execution_count": null,
   "metadata": {},
   "outputs": [],
   "source": []
  },
  {
   "cell_type": "markdown",
   "metadata": {},
   "source": [
    "# AREA OF A TRIANGLE(USING COMMAND LINE PROGRAMMING)"
   ]
  },
  {
   "cell_type": "code",
   "execution_count": null,
   "metadata": {},
   "outputs": [],
   "source": []
  },
  {
   "cell_type": "markdown",
   "metadata": {},
   "source": [
    "# Prime no sum\n",
    "Write a C program that will find the sum of all prime numbers in a given range.The range will be specified as command line parameters. The first command line parameter, N1 which is a positive integer, will contain the lower bound of the range. The second command line parameter N2, which is also a positive integer will the upper bound of the range. The program should consider all the prime numbers within the range, excluding the upper and lower bound. Print the output in integer format to stdout. Other than the integer number, no other extra information should be printed to stdout."
   ]
  },
  {
   "cell_type": "code",
   "execution_count": null,
   "metadata": {},
   "outputs": [],
   "source": []
  },
  {
   "cell_type": "markdown",
   "metadata": {},
   "source": [
    "# SORT AN ARRAY INTO TWO HALVES, ONE HALF ASCENDING AND SECOND HALF DESCENDING COMMAND LINE LANGUAGE"
   ]
  },
  {
   "cell_type": "code",
   "execution_count": null,
   "metadata": {},
   "outputs": [],
   "source": []
  },
  {
   "cell_type": "markdown",
   "metadata": {},
   "source": [
    "# DECIMAL TO BINARY USING COMMAND LINE ARGUMENTS"
   ]
  },
  {
   "cell_type": "code",
   "execution_count": null,
   "metadata": {},
   "outputs": [],
   "source": []
  },
  {
   "cell_type": "markdown",
   "metadata": {},
   "source": [
    "# FACTORIAL OF A NUMBER USING TCS COMMAND LINE ARGUMENTS"
   ]
  },
  {
   "cell_type": "code",
   "execution_count": null,
   "metadata": {},
   "outputs": [],
   "source": []
  },
  {
   "cell_type": "markdown",
   "metadata": {},
   "source": [
    "# SQUARE ROOT OF PRIME NUMBER USING COMMAND LINE ARGUMENTS"
   ]
  },
  {
   "cell_type": "code",
   "execution_count": null,
   "metadata": {},
   "outputs": [],
   "source": []
  },
  {
   "cell_type": "markdown",
   "metadata": {},
   "source": [
    "# SQUARE ROOT WITHOUT SQRT.H BY COMMAND LINE ARGUMENTS"
   ]
  },
  {
   "cell_type": "code",
   "execution_count": null,
   "metadata": {},
   "outputs": [],
   "source": []
  },
  {
   "cell_type": "markdown",
   "metadata": {},
   "source": [
    "# TCS COMMAND LINE PROGRAM FOR BINARY TO OCTAL"
   ]
  },
  {
   "cell_type": "code",
   "execution_count": null,
   "metadata": {},
   "outputs": [],
   "source": []
  },
  {
   "cell_type": "markdown",
   "metadata": {},
   "source": [
    "# TCS COMMAND LINE PROGRAM FOR DECIMAL TO OCTAL"
   ]
  },
  {
   "cell_type": "code",
   "execution_count": null,
   "metadata": {},
   "outputs": [],
   "source": []
  },
  {
   "cell_type": "markdown",
   "metadata": {},
   "source": [
    "# AREA OF CIRCLE USING COMMAND LINE ARGUMENTS"
   ]
  },
  {
   "cell_type": "code",
   "execution_count": null,
   "metadata": {},
   "outputs": [],
   "source": []
  },
  {
   "cell_type": "markdown",
   "metadata": {},
   "source": [
    "# AREA OF A TRIANGLE USING COMMAND LINE ARGUMENTS"
   ]
  },
  {
   "cell_type": "code",
   "execution_count": null,
   "metadata": {},
   "outputs": [],
   "source": []
  },
  {
   "cell_type": "markdown",
   "metadata": {},
   "source": [
    "# PROGRAM TO PRINT ALL INTEGERS USING COMMAND LINE ARGUMENTS"
   ]
  },
  {
   "cell_type": "code",
   "execution_count": null,
   "metadata": {},
   "outputs": [],
   "source": []
  },
  {
   "cell_type": "markdown",
   "metadata": {},
   "source": [
    "# CALCULATE LENGTH OF THE HYPOTENUSE OF RIGHT ANGLED TRIANGLE\n"
   ]
  },
  {
   "cell_type": "code",
   "execution_count": null,
   "metadata": {},
   "outputs": [],
   "source": [
    "#side1=float(input())\n",
    "#side2=float(input())\n",
    "side1=6.7\n",
    "side2=5.4\n",
    "hypt=(side1**2+side2**2)**(1/2)\n",
    "print(hypt)"
   ]
  },
  {
   "cell_type": "markdown",
   "metadata": {},
   "source": [
    "# Marathon\n",
    "A marathon is a long-distance race with an official distance of 42.195 kilometers(26 miles 385 yards), usually run as a road race or footrace. A local marathon was organized at Bavdhan, Pune. The distance actually covered by the participants has been recorded in an array R[ ] which is an integer array holding the values in kilometers. If there are N number of participants who started running at a particular time, then the size of R is N. The participants should cover a distance more than 0.0 km to get recorded in array R[ ].\n",
    "\n",
    "drc-coding-question-1\n",
    "Find the maximum distances covered by the 3 highest racers excluding finishers. If there are only one or two racers excluding finishers, give their distances covered.\n",
    "\n",
    "R[ ] will be the input float array. Write code to take the Input array R[ ], and return 3 maximum distances excluding Finishing Distance d, d = 42.195 km\n",
    "\n",
    "Example-1\n",
    "\n",
    "Input Values\n",
    "\n",
    "Enter the distances covered by racers in Marathon(Kilometers) please\n",
    "\n",
    "(press q to terminate):\n",
    "\n",
    "42.195\n",
    "\n",
    "42.195\n",
    "\n",
    "42.195\n",
    "\n",
    "33.25\n",
    "\n",
    "40\n",
    "\n",
    "41.2\n",
    "\n",
    "38.9\n",
    "\n",
    "37.5\n",
    "\n",
    "q\n",
    "\n",
    "Output Values\n",
    "\n",
    "Highest Distances excluding Finishers:\n",
    "\n",
    "[41.2, 40.0, 38.9]"
   ]
  },
  {
   "cell_type": "code",
   "execution_count": null,
   "metadata": {},
   "outputs": [],
   "source": [
    "R=[]\n",
    "print(\"Enter the distances covered by racers in Marathon(Kilometers) please\\n(press q to terminate):\")\n",
    "while True:\n",
    "    distance=input()\n",
    "    if distance=='q':\n",
    "        break\n",
    "    R.append(float(distance))\n",
    "#R=[42.195,42.195,42.195,33.25,40,41.2,38.9,37.5]\n",
    "res=[]\n",
    "while True:\n",
    "    if 42.195 in R:\n",
    "        R.remove(42.195)\n",
    "    else:break;\n",
    "res.append(float(max(R)))\n",
    "R.remove(max(R))\n",
    "res.append(float(max(R)))\n",
    "R.remove(max(R))\n",
    "res.append(float(max(R)))\n",
    "print(res)"
   ]
  },
  {
   "cell_type": "markdown",
   "metadata": {},
   "source": [
    "# Oddly Even\n",
    "Problem Statement\n",
    "Given a maximum of 100 digit numbers as input, find the difference between the sum of odd and even position digits.\n",
    "\n",
    "Case 1\n",
    "Input: 4567\n",
    "Expected Output: 2\n",
    "Explanation : Odd positions are 4 and 6 as they are pos: 1 and pos: 3, both have sum 10. Similarly, 5 and 7 are at even positions pos: 2 and pos: 4 with sum 12. Thus, difference is 12 – 10 = 2\n",
    "\n",
    "Case 2\n",
    "\n",
    "Input: 5476\n",
    "Expected Output: 2\n",
    "Case 3\n",
    "\n",
    "Input: 9834698765123\n",
    "Expected Output: 1\n",
    "Solution\n",
    "(When using Strings as input)"
   ]
  },
  {
   "cell_type": "code",
   "execution_count": null,
   "metadata": {},
   "outputs": [],
   "source": [
    "ip=str(9834698765123)\n",
    "odd_sum=0\n",
    "even_sum=0\n",
    "for i in range(0,len(ip)):\n",
    "    if i%2==0:\n",
    "        odd_sum+=int(ip[i])\n",
    "    else:\n",
    "        even_sum+=int(ip[i])\n",
    "diff=abs(odd_sum-even_sum)    \n",
    "print(diff)"
   ]
  },
  {
   "cell_type": "code",
   "execution_count": null,
   "metadata": {},
   "outputs": [],
   "source": []
  }
 ],
 "metadata": {
  "kernelspec": {
   "display_name": "Python 3",
   "language": "python",
   "name": "python3"
  },
  "language_info": {
   "codemirror_mode": {
    "name": "ipython",
    "version": 3
   },
   "file_extension": ".py",
   "mimetype": "text/x-python",
   "name": "python",
   "nbconvert_exporter": "python",
   "pygments_lexer": "ipython3",
   "version": "3.8.5"
  },
  "toc": {
   "base_numbering": 1,
   "nav_menu": {},
   "number_sections": true,
   "sideBar": true,
   "skip_h1_title": false,
   "title_cell": "Table of Contents",
   "title_sidebar": "Contents",
   "toc_cell": false,
   "toc_position": {
    "height": "calc(100% - 180px)",
    "left": "10px",
    "top": "150px",
    "width": "218.55px"
   },
   "toc_section_display": true,
   "toc_window_display": false
  }
 },
 "nbformat": 4,
 "nbformat_minor": 4
}
